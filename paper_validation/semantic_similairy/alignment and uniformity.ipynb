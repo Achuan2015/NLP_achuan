{
 "cells": [
  {
   "cell_type": "markdown",
   "metadata": {},
   "source": [
    "## Understanding Contrastive Representation Learning through Alignment and Uniformity on the Hypersphere"
   ]
  },
  {
   "cell_type": "markdown",
   "metadata": {},
   "source": [
    "### 内容简介"
   ]
  },
  {
   "cell_type": "markdown",
   "metadata": {},
   "source": [
    "文章中提到的metrics， alignment 和 Uniformity 进行验证\n",
    "\n",
    "```\n",
    "# bsz : batch size (number of positive pairs)\n",
    "# d : latent dim\n",
    "# x : Tensor, shape=[bsz, d]\n",
    "# latents for one side of positive pairs\n",
    "# y : Tensor, shape=[bsz, d]\n",
    "# latents for the other side of positive pairs\n",
    "# lam : hyperparameter balancing the two losses\n",
    "\n",
    "def lalign(x, y, alpha=2):\n",
    "    return (x - y).norm(dim=1).pow(alpha).mean()\n",
    "\n",
    "def lunif(x, t=2):\n",
    "    sq_pdist = torch.pdist(x, p=2).pow(2)\n",
    "    return sq_pdist.mul(-t).exp().mean().log()\n",
    "\n",
    "loss = lalign(x, y) + lam * (lunif(x) + lunif(y)) / 2\n",
    "```"
   ]
  },
  {
   "cell_type": "markdown",
   "metadata": {},
   "source": [
    "### 1. Alignment"
   ]
  },
  {
   "cell_type": "markdown",
   "metadata": {},
   "source": [
    "torch.norm 参数说明\n",
    "默认返回 2-范数，如果矩阵或者向量是多维的，才需要进行制定 dimension"
   ]
  },
  {
   "cell_type": "code",
   "execution_count": 1,
   "metadata": {},
   "outputs": [
    {
     "name": "stdout",
     "output_type": "stream",
     "text": [
      "data_norm2 tensor([1.7400, 1.9116, 1.9854, 1.7700, 1.7471, 1.4708, 1.7225, 2.3434, 2.8618,\n",
      "        3.4029])\n",
      "first_col_norm2 tensor(1.7400)\n"
     ]
    }
   ],
   "source": [
    "import torch\n",
    "\n",
    "data1 = torch.randn(10, 5)\n",
    "\n",
    "first_col = data1[0]\n",
    "data_norm2 = data1.norm(dim=1)\n",
    "print(data1.norm(dim=1).pow(2).mean())\n",
    "first_col_norm2 = torch.norm(first_col)\n",
    "print(f'data_norm2', data_norm2)\n",
    "print(f'first_col_norm2', first_col_norm2)"
   ]
  },
  {
   "cell_type": "code",
   "execution_count": 2,
   "metadata": {},
   "outputs": [],
   "source": [
    "def alignment(x, y, alpha=2):\n",
    "    return (x - y).norm(dim=1).pow(alpha).mean()"
   ]
  },
  {
   "cell_type": "markdown",
   "metadata": {},
   "source": [
    "### Uniformity\n",
    "torch.pdist?\n",
    "参数说明以及例子说明：https://blog.csdn.net/yyhaohaoxuexi/article/details/118692149"
   ]
  },
  {
   "cell_type": "code",
   "execution_count": 13,
   "metadata": {},
   "outputs": [],
   "source": [
    "def uniformity(x, t=2):\n",
    "    square_pdist = torch.pdist(x, p=2).pow(2)\n",
    "    return square_pdist.mul(-t).exp().mean().log()"
   ]
  },
  {
   "cell_type": "markdown",
   "metadata": {},
   "source": [
    "### Loss function\n",
    "$$ Loss = alignment(x, y) + lam * (uniformity(x) + uniformity(y)) / 2 $$"
   ]
  }
 ],
 "metadata": {
  "interpreter": {
   "hash": "39523588d8b65e276e3b3ce4ad86671cf16799b4b6dbe3d340c9dffb24f4d39d"
  },
  "kernelspec": {
   "display_name": "Python 3.7.3 64-bit ('base': conda)",
   "language": "python",
   "name": "python3"
  },
  "language_info": {
   "codemirror_mode": {
    "name": "ipython",
    "version": 3
   },
   "file_extension": ".py",
   "mimetype": "text/x-python",
   "name": "python",
   "nbconvert_exporter": "python",
   "pygments_lexer": "ipython3",
   "version": "3.7.3"
  },
  "orig_nbformat": 4
 },
 "nbformat": 4,
 "nbformat_minor": 2
}
