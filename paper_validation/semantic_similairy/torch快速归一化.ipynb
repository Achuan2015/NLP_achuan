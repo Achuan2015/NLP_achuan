{
 "cells": [
  {
   "cell_type": "code",
   "execution_count": 6,
   "metadata": {},
   "outputs": [],
   "source": [
    "## 向量如何快速归一化"
   ]
  },
  {
   "cell_type": "markdown",
   "metadata": {},
   "source": [
    "生成一个向量，并进行 归一化。\n",
    "\n",
    "1. 求 向量 的2范数\n",
    "2. 除以范数"
   ]
  },
  {
   "cell_type": "code",
   "execution_count": 3,
   "metadata": {},
   "outputs": [
    {
     "name": "stdout",
     "output_type": "stream",
     "text": [
      "a tensor([[0., 1., 2.],\n",
      "        [3., 4., 5.],\n",
      "        [6., 7., 8.]])\n",
      "a_norm tensor([ 2.2361,  7.0711, 12.2066])\n"
     ]
    }
   ],
   "source": [
    "import torch\n",
    "import torch.nn.functional as F\n",
    "\n",
    "a = torch.arange(9, dtype=torch.float)\n",
    "a = a.reshape(3, 3)\n",
    "\n",
    "print('a',a)\n",
    "\n",
    "a_norm = a.norm(dim=1)\n",
    "print('a_norm', a_norm)"
   ]
  },
  {
   "cell_type": "code",
   "execution_count": 8,
   "metadata": {},
   "outputs": [
    {
     "data": {
      "text/plain": [
       "tensor([[0.0000, 0.4472, 0.8944],\n",
       "        [1.3416, 1.7889, 2.2361],\n",
       "        [2.6833, 3.1305, 3.5777]])"
      ]
     },
     "execution_count": 8,
     "metadata": {},
     "output_type": "execute_result"
    }
   ],
   "source": [
    "import math\n",
    "a / math.sqrt(5)"
   ]
  },
  {
   "cell_type": "markdown",
   "metadata": {},
   "source": [
    "## 直接用funtional 的接口做\n",
    "F.normalize(a, dim=1)"
   ]
  },
  {
   "cell_type": "code",
   "execution_count": 9,
   "metadata": {},
   "outputs": [
    {
     "data": {
      "text/plain": [
       "tensor([[0.0000, 0.4472, 0.8944],\n",
       "        [0.4243, 0.5657, 0.7071],\n",
       "        [0.4915, 0.5735, 0.6554]])"
      ]
     },
     "execution_count": 9,
     "metadata": {},
     "output_type": "execute_result"
    }
   ],
   "source": [
    "F.normalize(a, dim=1)"
   ]
  },
  {
   "cell_type": "markdown",
   "metadata": {},
   "source": [
    "（1）求范数-norm\n",
    "（2）除以范数norm 完成归一化 （记住这叫归一化不叫正则化）"
   ]
  }
 ],
 "metadata": {
  "interpreter": {
   "hash": "39523588d8b65e276e3b3ce4ad86671cf16799b4b6dbe3d340c9dffb24f4d39d"
  },
  "kernelspec": {
   "display_name": "Python 3.7.3 64-bit ('base': conda)",
   "language": "python",
   "name": "python3"
  },
  "language_info": {
   "codemirror_mode": {
    "name": "ipython",
    "version": 3
   },
   "file_extension": ".py",
   "mimetype": "text/x-python",
   "name": "python",
   "nbconvert_exporter": "python",
   "pygments_lexer": "ipython3",
   "version": "3.7.3"
  },
  "orig_nbformat": 4
 },
 "nbformat": 4,
 "nbformat_minor": 2
}
