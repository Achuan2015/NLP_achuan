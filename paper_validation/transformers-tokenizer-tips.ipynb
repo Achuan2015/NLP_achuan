{
 "cells": [
  {
   "cell_type": "markdown",
   "metadata": {},
   "source": [
    "### transformer_tokenizer 使用记录"
   ]
  },
  {
   "cell_type": "code",
   "execution_count": 7,
   "metadata": {},
   "outputs": [
    {
     "name": "stdout",
     "output_type": "stream",
     "text": [
      "dict_keys(['input_ids', 'token_type_ids', 'attention_mask'])\n",
      "torch.Size([3, 32])\n"
     ]
    }
   ],
   "source": [
    "import transformers\n",
    "from transformers import BertTokenizer\n",
    "\n",
    "\n",
    "model_path = '/data/projects/NLP_achuan/semantic_similairy/text-semantic-similarity-bert/input/bert-base-chinese'\n",
    "tokenizer = BertTokenizer.from_pretrained(model_path)\n",
    "\n",
    "demo = ['经费卡发', '京东方咖啡机', '今飞凯达设计费']\n",
    "\n",
    "demo_to = tokenizer(demo, max_length=32,truncation=True, padding='max_length', return_tensors='pt')\n",
    "print(demo_to.keys())\n",
    "\n",
    "print(demo_to['input_ids'].shape) # [3, max_length]\n",
    "# Batch size -> N * 3 * 32 "
   ]
  }
 ],
 "metadata": {
  "interpreter": {
   "hash": "31f2aee4e71d21fbe5cf8b01ff0e069b9275f58929596ceb00d14d90e3e16cd6"
  },
  "kernelspec": {
   "display_name": "Python 3.8.2 64-bit",
   "language": "python",
   "name": "python3"
  },
  "language_info": {
   "codemirror_mode": {
    "name": "ipython",
    "version": 3
   },
   "file_extension": ".py",
   "mimetype": "text/x-python",
   "name": "python",
   "nbconvert_exporter": "python",
   "pygments_lexer": "ipython3",
   "version": "3.8.5"
  },
  "orig_nbformat": 4
 },
 "nbformat": 4,
 "nbformat_minor": 2
}
