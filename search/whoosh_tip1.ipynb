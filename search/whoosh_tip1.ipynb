{
 "cells": [
  {
   "cell_type": "markdown",
   "metadata": {},
   "source": [
    "### 验证 Whoosh的工呢过"
   ]
  },
  {
   "cell_type": "markdown",
   "metadata": {},
   "source": [
    "#### 载入必要的依赖包"
   ]
  },
  {
   "cell_type": "code",
   "execution_count": 8,
   "metadata": {},
   "outputs": [],
   "source": [
    "import sys,os\n",
    "sys.path.append(\"../\")\n",
    "from whoosh.index import create_in, open_dir\n",
    "from whoosh.fields import *\n",
    "from whoosh.qparser import QueryParser\n",
    "\n",
    "from jieba.analyse.analyzer import ChineseAnalyzer\n",
    "\n",
    "analyzer = ChineseAnalyzer()"
   ]
  },
  {
   "cell_type": "markdown",
   "metadata": {},
   "source": [
    "#### 定义 SSC 所需要的 Schema"
   ]
  },
  {
   "cell_type": "code",
   "execution_count": 9,
   "metadata": {},
   "outputs": [],
   "source": [
    "corpus_schema = Schema(id=ID(stored=True), corpus_id=ID(stored=True), field=ID(stored=True), content=TEXT(stored=True, analyzer=analyzer))\n",
    "\n",
    "\n",
    "if not os.path.exists(\"corpus_index_dir\"):\n",
    "    os.mkdir(\"corpus_index_dir\")"
   ]
  },
  {
   "cell_type": "markdown",
   "metadata": {},
   "source": [
    "#### 添加文档"
   ]
  },
  {
   "cell_type": "code",
   "execution_count": 10,
   "metadata": {},
   "outputs": [],
   "source": [
    "ix = create_in('corpus_index_dir', corpus_schema, 'bot_1')\n",
    "writer = ix.writer()\n",
    "writer.add_document(id='123', corpus_id='1', field='faq', content='你们公司在哪里')\n",
    "writer.add_document(id='124', corpus_id='1', field='faq', content='你们公司在几号线')\n",
    "writer.commit()"
   ]
  },
  {
   "cell_type": "code",
   "execution_count": 11,
   "metadata": {},
   "outputs": [],
   "source": [
    "ix2 = create_in('corpus_index_dir', corpus_schema, 'bot_2')\n",
    "writer2 = ix2.writer()\n",
    "writer2.add_document(id='123', corpus_id='1', field='faq', content='你们公司在哪里')\n",
    "writer2.add_document(id='124', corpus_id='1', field='faq', content='你们公司在几号线')\n",
    "writer2.commit()"
   ]
  },
  {
   "cell_type": "markdown",
   "metadata": {},
   "source": [
    "#### 提交变化"
   ]
  },
  {
   "cell_type": "markdown",
   "metadata": {},
   "source": [
    "#### 重新加载文档"
   ]
  },
  {
   "cell_type": "code",
   "execution_count": 16,
   "metadata": {},
   "outputs": [
    {
     "name": "stdout",
     "output_type": "stream",
     "text": [
      "faq\n",
      "====================\n"
     ]
    }
   ],
   "source": [
    "import whoosh.index as index\n",
    "\n",
    "ix = index.open_dir('corpus_index_dir', indexname='bot_1')\n",
    "parser = QueryParser('content', schema=ix.schema)\n",
    "\n",
    "with ix.searcher() as s:\n",
    "    q = parser.parse('公司')\n",
    "    results = s.search(q)\n",
    "    for hit in results:\n",
    "        # print(hit.highlights(\"content\")\n",
    "        print(hit.get('field'))\n",
    "    print(\"==\" * 10)"
   ]
  },
  {
   "cell_type": "markdown",
   "metadata": {},
   "source": [
    "### 测试删除 document"
   ]
  },
  {
   "cell_type": "code",
   "execution_count": 17,
   "metadata": {},
   "outputs": [],
   "source": [
    "\n",
    "writer1 = ix.writer()\n",
    "# writer1.delete_by_term('id', '123')\n",
    "writer1.update_document(id='124', corpus_id='1', field='faq', content='你们公司在几号线!!')\n",
    "\n",
    "writer1.commit()"
   ]
  },
  {
   "cell_type": "code",
   "execution_count": 20,
   "metadata": {},
   "outputs": [
    {
     "name": "stdout",
     "output_type": "stream",
     "text": [
      "faq 你们公司在几号线\n",
      "faq 你们公司在几号线!!\n",
      "====================\n"
     ]
    }
   ],
   "source": [
    "ix = index.open_dir('corpus_index_dir', indexname='bot_1')\n",
    "parser = QueryParser('content', schema=ix.schema)\n",
    "\n",
    "with ix.searcher() as s:\n",
    "    q = parser.parse('公司')\n",
    "    results = s.search(q)\n",
    "    for hit in results:\n",
    "        # print(hit.highlights(\"content\")\n",
    "        print(hit.get('field'), hit.get('content'))\n",
    "    print(\"==\" * 10)"
   ]
  }
 ],
 "metadata": {
  "interpreter": {
   "hash": "dafaadbda7e2b4673c53a13d22366aab1c2a35a28f6b7c4e8046d1a490edd4db"
  },
  "kernelspec": {
   "display_name": "Python 3.8.5 ('base')",
   "language": "python",
   "name": "python3"
  },
  "language_info": {
   "codemirror_mode": {
    "name": "ipython",
    "version": 3
   },
   "file_extension": ".py",
   "mimetype": "text/x-python",
   "name": "python",
   "nbconvert_exporter": "python",
   "pygments_lexer": "ipython3",
   "version": "3.8.5"
  },
  "orig_nbformat": 4
 },
 "nbformat": 4,
 "nbformat_minor": 2
}
