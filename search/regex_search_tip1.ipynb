{
 "cells": [
  {
   "cell_type": "markdown",
   "metadata": {},
   "source": [
    "### 用正则匹配规则search"
   ]
  },
  {
   "cell_type": "code",
   "execution_count": 1,
   "metadata": {},
   "outputs": [],
   "source": [
    "import regex as re\n",
    "\n",
    "example1 = ['.{0,10}(王先生|你).{0,20}(外观|动力).{0,30} ', '.{0,25}(没关系|不用担心|别担心).{0,35}(试驾|是假|事假).{0,25}']\n",
    "\n",
    "query1 = '这款车自从今年面市以来，几乎每天都有不少客户来试驾，您看我们的预约表每天都安排的满满的。'"
   ]
  },
  {
   "cell_type": "code",
   "execution_count": 43,
   "metadata": {},
   "outputs": [
    {
     "name": "stdout",
     "output_type": "stream",
     "text": [
      "response:  [{'pos': 0, 'endpos': 35, 'keyword': '试驾|预约|安排|客户', 'pattern': regex.Regex('试驾|预约|安排|客户', flags=regex.V0)}, {'pos': 0, 'endpos': 50, 'keyword': '试驾|是假|事假', 'pattern': regex.Regex('试驾|是假|事假', flags=regex.V0)}, {'pos': 0, 'endpos': 15, 'keyword': '', 'pattern': None}]\n"
     ]
    }
   ],
   "source": [
    "lgf = '.{0,35}(试驾|预约|安排|客户).{0,50}(试驾|是假|事假).{0,15}'\n",
    "\n",
    "def read_lgf(lfg):\n",
    "    items = [item for item in lgf.strip().split('.') if item]\n",
    "    ans = []\n",
    "    for item in items:\n",
    "        result = find_item(item)\n",
    "        ans.append(result)\n",
    "    return ans\n",
    "         \n",
    "def find_item(item):\n",
    "    pos, endpos = [eval(i) for i in item[item.find('{') + 1: item.find('}')].split(',') if i.isdigit()]\n",
    "    keyword = ''\n",
    "    pattern=None\n",
    "    if item.find('(') != -1:\n",
    "        keyword = item[item.find('(') + 1: item.find(')')]\n",
    "    if keyword:\n",
    "        pattern = re.compile(keyword)\n",
    "    return {'pos': pos, 'endpos': endpos, 'keyword': keyword, 'pattern': pattern}\n",
    "\n",
    "response = read_lgf(lgf)\n",
    "print('response: ', response)"
   ]
  },
  {
   "cell_type": "code",
   "execution_count": 45,
   "metadata": {},
   "outputs": [
    {
     "name": "stdout",
     "output_type": "stream",
     "text": [
      "query1:  这款车自从今年面市以来，几乎每天都有不少客户来试驾，您看我们的预约表每天都安排的满满的。\n",
      "pattern:  [{'pos': 0, 'endpos': 35, 'keyword': '试驾|预约|安排|客户', 'pattern': regex.Regex('试驾|预约|安排|客户', flags=regex.V0)}, {'pos': 0, 'endpos': 50, 'keyword': '试驾|是假|事假', 'pattern': regex.Regex('试驾|是假|事假', flags=regex.V0)}, {'pos': 0, 'endpos': 15, 'keyword': '', 'pattern': None}]\n",
      "ans:  [(20, 22), (23, 25)] span:  [0, 15]\n",
      "match:  True\n"
     ]
    }
   ],
   "source": [
    "def match(text, patterns):\n",
    "    '''\n",
    "    1. 在 pattern 要求在规定的 pos 和 endpos 位置进行搜索，同时记录最右边的位置 可能有多个\n",
    "    2. pattern的最后一个距离需求中得到 关键词 的距离要求\n",
    "    3. 获得 pattern 内部关键词之间距离范围\n",
    "    4. 比较距离范围是否在 3 的要求中\n",
    "    '''\n",
    "    ans = []\n",
    "    span = None\n",
    "    for p in patterns:\n",
    "        if p['keyword'] and p['pattern']:\n",
    "            temp = []\n",
    "            pattern = p['pattern']\n",
    "            for item in pattern.finditer(text, pos=p['pos'], endpos=p['endpos']):\n",
    "                temp.append(item.span())\n",
    "            if len(temp) == 0:\n",
    "                return False\n",
    "            # 如果 temp 中有多个结果，则以 first 结果为准  \n",
    "            ans.append(temp[0])\n",
    "        else:\n",
    "            if p['endpos'] > 0:\n",
    "                span = [p['pos'], p['endpos']]\n",
    "    # 判断是否满足 keyword 的间距是否满足要求\n",
    "    ## 情况一： 对 区间 无要求\n",
    "    if not span:\n",
    "        return True\n",
    "    ## 情况二： 对 区间 有要求，则进行判断\n",
    "    endpos = ans[0][1]\n",
    "    for pos in ans[1:]:\n",
    "        gap = pos[0] - endpos\n",
    "        if gap < span[0] or gap > span[1]:\n",
    "            return False\n",
    "        endpos = pos[1]\n",
    "    return True\n",
    "print('query1: ', query1)\n",
    "print('pattern: ', response)\n",
    "ans = match(query1, response)\n",
    "print('match: ', ans)\n"
   ]
  },
  {
   "cell_type": "code",
   "execution_count": 36,
   "metadata": {},
   "outputs": [
    {
     "data": {
      "text/plain": [
       "[(20, 22)]"
      ]
     },
     "execution_count": 36,
     "metadata": {},
     "output_type": "execute_result"
    }
   ],
   "source": [
    "ans[0].spans()"
   ]
  }
 ],
 "metadata": {
  "interpreter": {
   "hash": "dafaadbda7e2b4673c53a13d22366aab1c2a35a28f6b7c4e8046d1a490edd4db"
  },
  "kernelspec": {
   "display_name": "Python 3.8.5 ('base')",
   "language": "python",
   "name": "python3"
  },
  "language_info": {
   "codemirror_mode": {
    "name": "ipython",
    "version": 3
   },
   "file_extension": ".py",
   "mimetype": "text/x-python",
   "name": "python",
   "nbconvert_exporter": "python",
   "pygments_lexer": "ipython3",
   "version": "3.7.3"
  },
  "orig_nbformat": 4
 },
 "nbformat": 4,
 "nbformat_minor": 2
}
