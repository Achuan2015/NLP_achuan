{
 "cells": [
  {
   "cell_type": "markdown",
   "metadata": {},
   "source": [
    "### 用正则匹配规则search"
   ]
  },
  {
   "cell_type": "code",
   "execution_count": 1,
   "metadata": {},
   "outputs": [],
   "source": [
    "import regex as re\n",
    "\n",
    "example1 = ['.{0,10}(王先生|你).{0,20}(外观|动力).{0,30} ', '.{0,25}(没关系|不用担心|别担心).{0,35}(试驾|是假|事假).{0,25}']\n",
    "\n",
    "query1 = '这款车自从今年面市以来，几乎每天都有不少客户来试驾，您看我们的预约表每天都安排的满满的。'"
   ]
  },
  {
   "cell_type": "code",
   "execution_count": 2,
   "metadata": {},
   "outputs": [
    {
     "name": "stdout",
     "output_type": "stream",
     "text": [
      "response:  [{'pos': 0, 'endpos': 10, 'keyword': '王先生|你', 'pattern': regex.Regex('王先生|你', flags=regex.V0)}, {'pos': 0, 'endpos': 20, 'keyword': '外观|动力', 'pattern': regex.Regex('外观|动力', flags=regex.V0)}, {'pos': 0, 'endpos': 30, 'keyword': '', 'pattern': None}]\n"
     ]
    }
   ],
   "source": [
    "lgf = '.{0,10}(王先生|你).{0,20}(外观|动力).{0,30}'\n",
    "\n",
    "def read_lgf(lfg):\n",
    "    items = [item for item in lgf.strip().split('.') if item]\n",
    "    ans = []\n",
    "    for item in items:\n",
    "        result = find_item(item)\n",
    "        ans.append(result)\n",
    "    return ans\n",
    "         \n",
    "def find_item(item):\n",
    "    pos, endpos = [eval(i) for i in item[item.find('{') + 1: item.find('}')].split(',') if i.isdigit()]\n",
    "    keyword = ''\n",
    "    pattern=None\n",
    "    if item.find('(') != -1:\n",
    "        keyword = item[item.find('(') + 1: item.find(')')]\n",
    "    if keyword:\n",
    "        pattern = re.compile(keyword)\n",
    "    return {'pos': pos, 'endpos': endpos, 'keyword': keyword, 'pattern': pattern}\n",
    "\n",
    "response = read_lgf(lgf)\n",
    "print('response: ', response)"
   ]
  },
  {
   "cell_type": "code",
   "execution_count": 4,
   "metadata": {},
   "outputs": [],
   "source": [
    "def match(text):\n",
    "    pass\n",
    "    "
   ]
  },
  {
   "cell_type": "code",
   "execution_count": null,
   "metadata": {},
   "outputs": [
    {
     "name": "stdout",
     "output_type": "stream",
     "text": [
      "\u001b[0;31mSignature:\u001b[0m\n",
      "\u001b[0mre\u001b[0m\u001b[0;34m.\u001b[0m\u001b[0mfindall\u001b[0m\u001b[0;34m(\u001b[0m\u001b[0;34m\u001b[0m\n",
      "\u001b[0;34m\u001b[0m    \u001b[0mpattern\u001b[0m\u001b[0;34m,\u001b[0m\u001b[0;34m\u001b[0m\n",
      "\u001b[0;34m\u001b[0m    \u001b[0mstring\u001b[0m\u001b[0;34m,\u001b[0m\u001b[0;34m\u001b[0m\n",
      "\u001b[0;34m\u001b[0m    \u001b[0mflags\u001b[0m\u001b[0;34m=\u001b[0m\u001b[0;36m0\u001b[0m\u001b[0;34m,\u001b[0m\u001b[0;34m\u001b[0m\n",
      "\u001b[0;34m\u001b[0m    \u001b[0mpos\u001b[0m\u001b[0;34m=\u001b[0m\u001b[0;32mNone\u001b[0m\u001b[0;34m,\u001b[0m\u001b[0;34m\u001b[0m\n",
      "\u001b[0;34m\u001b[0m    \u001b[0mendpos\u001b[0m\u001b[0;34m=\u001b[0m\u001b[0;32mNone\u001b[0m\u001b[0;34m,\u001b[0m\u001b[0;34m\u001b[0m\n",
      "\u001b[0;34m\u001b[0m    \u001b[0moverlapped\u001b[0m\u001b[0;34m=\u001b[0m\u001b[0;32mFalse\u001b[0m\u001b[0;34m,\u001b[0m\u001b[0;34m\u001b[0m\n",
      "\u001b[0;34m\u001b[0m    \u001b[0mconcurrent\u001b[0m\u001b[0;34m=\u001b[0m\u001b[0;32mNone\u001b[0m\u001b[0;34m,\u001b[0m\u001b[0;34m\u001b[0m\n",
      "\u001b[0;34m\u001b[0m    \u001b[0mtimeout\u001b[0m\u001b[0;34m=\u001b[0m\u001b[0;32mNone\u001b[0m\u001b[0;34m,\u001b[0m\u001b[0;34m\u001b[0m\n",
      "\u001b[0;34m\u001b[0m    \u001b[0mignore_unused\u001b[0m\u001b[0;34m=\u001b[0m\u001b[0;32mFalse\u001b[0m\u001b[0;34m,\u001b[0m\u001b[0;34m\u001b[0m\n",
      "\u001b[0;34m\u001b[0m    \u001b[0;34m**\u001b[0m\u001b[0mkwargs\u001b[0m\u001b[0;34m,\u001b[0m\u001b[0;34m\u001b[0m\n",
      "\u001b[0;34m\u001b[0m\u001b[0;34m)\u001b[0m\u001b[0;34m\u001b[0m\u001b[0;34m\u001b[0m\u001b[0m\n",
      "\u001b[0;31mDocstring:\u001b[0m\n",
      "Return a list of all matches in the string. The matches may be overlapped\n",
      "if overlapped is True. If one or more groups are present in the pattern,\n",
      "return a list of groups; this will be a list of tuples if the pattern has\n",
      "more than one group. Empty matches are included in the result.\n",
      "\u001b[0;31mFile:\u001b[0m      /data/opts/anaconda3/lib/python3.8/site-packages/regex/regex.py\n",
      "\u001b[0;31mType:\u001b[0m      function\n"
     ]
    }
   ],
   "source": [
    "re.findall?"
   ]
  }
 ],
 "metadata": {
  "interpreter": {
   "hash": "dafaadbda7e2b4673c53a13d22366aab1c2a35a28f6b7c4e8046d1a490edd4db"
  },
  "kernelspec": {
   "display_name": "Python 3.8.5 ('base')",
   "language": "python",
   "name": "python3"
  },
  "language_info": {
   "codemirror_mode": {
    "name": "ipython",
    "version": 3
   },
   "file_extension": ".py",
   "mimetype": "text/x-python",
   "name": "python",
   "nbconvert_exporter": "python",
   "pygments_lexer": "ipython3",
   "version": "3.8.5"
  },
  "orig_nbformat": 4
 },
 "nbformat": 4,
 "nbformat_minor": 2
}
